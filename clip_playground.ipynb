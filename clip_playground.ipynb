{
 "cells": [
  {
   "cell_type": "code",
   "execution_count": 7,
   "metadata": {
    "collapsed": true,
    "pycharm": {
     "name": "#%%\n"
    }
   },
   "outputs": [],
   "source": [
    "import torch\n",
    "import clip\n",
    "import sys\n",
    "from PIL import Image\n",
    "from time import perf_counter\n",
    "import numpy as np"
   ]
  },
  {
   "cell_type": "code",
   "execution_count": 8,
   "outputs": [
    {
     "name": "stderr",
     "output_type": "stream",
     "text": [
      "100%|███████████████████████| 353976522/353976522 [00:32<00:00, 10734972.21it/s]\n"
     ]
    }
   ],
   "source": [
    "device = \"cuda\" if torch.cuda.is_available() else \"cpu\"\n",
    "model, preprocess = clip.load(\"ViT-B/32\", device=device)\n",
    "\n",
    "assert len(sys.argv) > 1\n",
    "\n",
    "def _infer(engr_prompts=[\"a diagram\", \"a dog\", \"a cat\"], filename=None):\n",
    "    if type(filename) == type(None):\n",
    "        image = preprocess(Image.open(sys.argv[1])).unsqueeze(0).to(device)\n",
    "    else:\n",
    "        image = preprocess(Image.open(filename)).unsqueeze(0).to(device)\n",
    "\n",
    "    start = perf_counter()\n",
    "    text = clip.tokenize(engr_prompts).to(device)\n",
    "\n",
    "    with torch.no_grad():\n",
    "        image_features = model.encode_image(image)\n",
    "        text_features = model.encode_text(text)\n",
    "\n",
    "        logits_per_image, logits_per_text = model(image, text)\n",
    "        probs = logits_per_image.softmax(dim=-1).cpu().numpy()\n",
    "\n",
    "    print(\"Elapsed time:\", str(perf_counter() - start) + \" seconds\")\n",
    "    print(\"Label probs:\", [engr_prompts[i] + \": \" + str(int(p*100)) + \"%\" for i, p in enumerate(probs[0])])\n",
    "    return probs\n"
   ],
   "metadata": {
    "collapsed": false,
    "pycharm": {
     "name": "#%%\n"
    }
   }
  },
  {
   "cell_type": "code",
   "execution_count": 10,
   "outputs": [],
   "source": [
    "# build query given ioi is \"scramble.jpg\"\n",
    "questions = []\n",
    "questions.append(\"Is it organic?\")\n",
    "questions.append(\"Is it alive?\")\n",
    "questions.append(\"Is it big?\")\n",
    "questions.append(\"Is it fiction?\")\n",
    "questions.append(\"Is it a machine?\")"
   ],
   "metadata": {
    "collapsed": false,
    "pycharm": {
     "name": "#%%\n"
    }
   }
  },
  {
   "cell_type": "code",
   "execution_count": null,
   "outputs": [],
   "source": [
    "_infer()\n"
   ],
   "metadata": {
    "collapsed": false,
    "pycharm": {
     "name": "#%%\n"
    }
   }
  }
 ],
 "metadata": {
  "kernelspec": {
   "display_name": "Python 3",
   "language": "python",
   "name": "python3"
  },
  "language_info": {
   "codemirror_mode": {
    "name": "ipython",
    "version": 2
   },
   "file_extension": ".py",
   "mimetype": "text/x-python",
   "name": "python",
   "nbconvert_exporter": "python",
   "pygments_lexer": "ipython2",
   "version": "2.7.6"
  }
 },
 "nbformat": 4,
 "nbformat_minor": 0
}